{
  "nbformat": 4,
  "nbformat_minor": 0,
  "metadata": {
    "colab": {
      "provenance": [],
      "authorship_tag": "ABX9TyOXsFoy0d/tVeg1ydiIiC1r"
    },
    "kernelspec": {
      "name": "python3",
      "display_name": "Python 3"
    },
    "language_info": {
      "name": "python"
    }
  },
  "cells": [
    {
      "cell_type": "code",
      "execution_count": 2,
      "metadata": {
        "id": "8Kd9pL4ROhHG"
      },
      "outputs": [],
      "source": [
        "import pandas as pd\n",
        "import matplotlib.pyplot as plt\n",
        "import seaborn as sns\n",
        "import matplotlib.animation as animation"
      ]
    },
    {
      "cell_type": "markdown",
      "source": [
        "Reading the csv with `pd.read_csv` and printing the first 5 rows with `df.head()`"
      ],
      "metadata": {
        "id": "mEdNE4PYFRvM"
      }
    },
    {
      "cell_type": "code",
      "source": [
        "df=pd.read_csv(\"/content/IRIS.csv\")\n",
        "print(df.head())"
      ],
      "metadata": {
        "colab": {
          "base_uri": "https://localhost:8080/"
        },
        "id": "H3x4Mg21O3ka",
        "outputId": "f05bb1a4-f4c1-4096-82e8-e1a89b31d5ba"
      },
      "execution_count": 3,
      "outputs": [
        {
          "output_type": "stream",
          "name": "stdout",
          "text": [
            "   sepal_length  sepal_width  petal_length  petal_width      species\n",
            "0           5.1          3.5           1.4          0.2  Iris-setosa\n",
            "1           4.9          3.0           1.4          0.2  Iris-setosa\n",
            "2           4.7          3.2           1.3          0.2  Iris-setosa\n",
            "3           4.6          3.1           1.5          0.2  Iris-setosa\n",
            "4           5.0          3.6           1.4          0.2  Iris-setosa\n",
            "['Iris-setosa' 'Iris-versicolor' 'Iris-virginica']\n"
          ]
        }
      ]
    },
    {
      "cell_type": "markdown",
      "source": [
        "\n",
        "Setting up the figure as if for the animation\n",
        "\n",
        "Defining the `animate` function which we`re going to use in the future:\n",
        "\n",
        "`ax.clear` resets the figure\n",
        "\n",
        "Setting up the scale: `scale=i/20` is the main part where the boxes grow, and `scale=50/20` is the part where the video pauses so the user can see the final result\n",
        "\n",
        "Copying df to create the growing values so the boxplots expand over the time.\n",
        "\n",
        "Finally, creating the boxplot, hueing the values by species and setting the deep palette\n",
        "\n",
        "Creating the animation with funcAnimation and saving it as a gif\n",
        "\n",
        "Closing the plot with `plt.close` so it doesnt show any errors in the notebook."
      ],
      "metadata": {
        "id": "jJTe0JT_GMJP"
      }
    },
    {
      "cell_type": "code",
      "source": [
        "\n",
        "from google.colab import files\n",
        "fig, ax = plt.subplots(figsize=(12, 8))\n",
        "def animate(i):\n",
        "    ax.clear()\n",
        "    if i<50:\n",
        "        scale=i/20\n",
        "    else:\n",
        "        scale=50/20\n",
        "    partial_df = df.copy()\n",
        "    partial_df[\"sepal_length\"] = partial_df[\"sepal_length\"] * scale\n",
        "    sns.boxplot(\n",
        "        data=partial_df,\n",
        "        x=\"species\", y=\"sepal_length\",\n",
        "        hue=\"species\", palette=\"deep\",\n",
        "        ax=ax, legend=False\n",
        "    )\n",
        "\n",
        "\n",
        "    ax.set_title(f\"Animated Boxplot: Sepal Length × Scale = {scale:.2f}\")\n",
        "    ax.set_ylabel(\"Scaled Length (cm)\")\n",
        "    ax.set_xlabel(\"Species\")\n",
        "    ax.set_ylim(-1, 20)\n",
        "\n",
        "\n",
        "ani = animation.FuncAnimation(\n",
        "    fig, animate, frames=80, interval=150, repeat=False\n",
        ")\n",
        "\n",
        "\n",
        "ani.save(\"AnimationBox.gif\", writer='pillow', fps=10)\n",
        "\n",
        "plt.close(fig)\n",
        "\n",
        "files.download(\"AnimationBox.gif\")"
      ],
      "metadata": {
        "colab": {
          "base_uri": "https://localhost:8080/",
          "height": 17
        },
        "id": "mNNkZ93PO9sH",
        "outputId": "9a1bf877-d5af-4f56-dce3-b24ccaa51b0f"
      },
      "execution_count": null,
      "outputs": [
        {
          "output_type": "display_data",
          "data": {
            "text/plain": [
              "<IPython.core.display.Javascript object>"
            ],
            "application/javascript": [
              "\n",
              "    async function download(id, filename, size) {\n",
              "      if (!google.colab.kernel.accessAllowed) {\n",
              "        return;\n",
              "      }\n",
              "      const div = document.createElement('div');\n",
              "      const label = document.createElement('label');\n",
              "      label.textContent = `Downloading \"${filename}\": `;\n",
              "      div.appendChild(label);\n",
              "      const progress = document.createElement('progress');\n",
              "      progress.max = size;\n",
              "      div.appendChild(progress);\n",
              "      document.body.appendChild(div);\n",
              "\n",
              "      const buffers = [];\n",
              "      let downloaded = 0;\n",
              "\n",
              "      const channel = await google.colab.kernel.comms.open(id);\n",
              "      // Send a message to notify the kernel that we're ready.\n",
              "      channel.send({})\n",
              "\n",
              "      for await (const message of channel.messages) {\n",
              "        // Send a message to notify the kernel that we're ready.\n",
              "        channel.send({})\n",
              "        if (message.buffers) {\n",
              "          for (const buffer of message.buffers) {\n",
              "            buffers.push(buffer);\n",
              "            downloaded += buffer.byteLength;\n",
              "            progress.value = downloaded;\n",
              "          }\n",
              "        }\n",
              "      }\n",
              "      const blob = new Blob(buffers, {type: 'application/binary'});\n",
              "      const a = document.createElement('a');\n",
              "      a.href = window.URL.createObjectURL(blob);\n",
              "      a.download = filename;\n",
              "      div.appendChild(a);\n",
              "      a.click();\n",
              "      div.remove();\n",
              "    }\n",
              "  "
            ]
          },
          "metadata": {}
        },
        {
          "output_type": "display_data",
          "data": {
            "text/plain": [
              "<IPython.core.display.Javascript object>"
            ],
            "application/javascript": [
              "download(\"download_795ac948-b541-42bf-af21-ebaf654d3863\", \"AnimationBox.gif\", 458865)"
            ]
          },
          "metadata": {}
        }
      ]
    }
  ]
}